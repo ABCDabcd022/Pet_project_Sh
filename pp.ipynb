{
 "cells": [
  {
   "cell_type": "markdown",
   "metadata": {},
   "source": [
    "Попробуем использовать модель для русского текста без дообучения"
   ]
  },
  {
   "cell_type": "code",
   "execution_count": 1,
   "metadata": {},
   "outputs": [],
   "source": [
    "from transformers import pipeline"
   ]
  },
  {
   "cell_type": "code",
   "execution_count": 2,
   "metadata": {},
   "outputs": [],
   "source": [
    "summarizer = pipeline(\"summarization\", model=\"facebook/bart-large-cnn\")"
   ]
  },
  {
   "cell_type": "code",
   "execution_count": 7,
   "metadata": {},
   "outputs": [],
   "source": [
    "ARTICLE = \"\"\" В островном королевстве Мелнибонэ истово блюли древние обычаи, хотя вот уже пятьсот лет день за днем и час за часом теряла держава свое былое могущество и держалась теперь лишь торговлей с Молодыми Королевствами, да потому еще, что Призрачный Город Имррир служил местом встречи купцам со всего света. Много ли от тех обычаев пользы? Нельзя ли отринуть их и тем самым избежать уготованной судьбы?\n",
    "Соперник императора Элрика предпочитал не задаваться такими вопросами. Он заявлял во всеуслышанье, что, пренебрегая обычаями предков, Элрик навлечет гибель на Мелнибонэ.\n",
    "Вот начало той трагической истории, которая длилась не год и не два и за концом которой — гибель всего этого мира.\n",
    "\"\"\""
   ]
  },
  {
   "cell_type": "code",
   "execution_count": 8,
   "metadata": {},
   "outputs": [
    {
     "name": "stdout",
     "output_type": "stream",
     "text": [
      "[{'summary_text': 'Не  теряла держава   \\xa0‘ператора’,   ‘‘’И\\u2009’’  “”’ ‘Н.”  ””,  ’”. ”, ” ‘, ’, \\u2009”,. \\u2009, ‘.’. \\u2009. “Н\\u2009 “I’m sorry,” “'}]\n"
     ]
    }
   ],
   "source": [
    "print(summarizer(ARTICLE, max_length=130, min_length=30, do_sample=False))"
   ]
  },
  {
   "cell_type": "markdown",
   "metadata": {},
   "source": [
    "Дообучим "
   ]
  },
  {
   "cell_type": "code",
   "execution_count": 3,
   "metadata": {},
   "outputs": [
    {
     "data": {
      "application/vnd.jupyter.widget-view+json": {
       "model_id": "d0b374266bb74f13a273c7d6d92baae9",
       "version_major": 2,
       "version_minor": 0
      },
      "text/plain": [
       "Map:   0%|          | 0/15 [00:00<?, ? examples/s]"
      ]
     },
     "metadata": {},
     "output_type": "display_data"
    },
    {
     "name": "stderr",
     "output_type": "stream",
     "text": [
      "c:\\Users\\nicks\\anaconda3\\Lib\\site-packages\\transformers\\tokenization_utils_base.py:4109: UserWarning: `as_target_tokenizer` is deprecated and will be removed in v5 of Transformers. You can tokenize your labels by using the argument `text_target` of the regular `__call__` method (either in the same call as your input texts if you use the same keyword arguments, or in a separate call.\n",
      "  warnings.warn(\n"
     ]
    },
    {
     "data": {
      "application/vnd.jupyter.widget-view+json": {
       "model_id": "ba8b8fb0620043958b149e43fe6d4048",
       "version_major": 2,
       "version_minor": 0
      },
      "text/plain": [
       "Map:   0%|          | 0/3 [00:00<?, ? examples/s]"
      ]
     },
     "metadata": {},
     "output_type": "display_data"
    },
    {
     "name": "stderr",
     "output_type": "stream",
     "text": [
      "c:\\Users\\nicks\\anaconda3\\Lib\\site-packages\\transformers\\training_args.py:1545: FutureWarning: `evaluation_strategy` is deprecated and will be removed in version 4.46 of 🤗 Transformers. Use `eval_strategy` instead\n",
      "  warnings.warn(\n"
     ]
    },
    {
     "data": {
      "application/vnd.jupyter.widget-view+json": {
       "model_id": "9ed2ddb2083b4af8b1374cdffd653d05",
       "version_major": 2,
       "version_minor": 0
      },
      "text/plain": [
       "  0%|          | 0/8 [00:00<?, ?it/s]"
      ]
     },
     "metadata": {},
     "output_type": "display_data"
    },
    {
     "name": "stderr",
     "output_type": "stream",
     "text": [
      "c:\\Users\\nicks\\anaconda3\\Lib\\site-packages\\transformers\\modeling_utils.py:2618: UserWarning: Moving the following attributes in the config to the generation config: {'max_length': 142, 'min_length': 56, 'early_stopping': True, 'num_beams': 4, 'length_penalty': 2.0, 'no_repeat_ngram_size': 3, 'forced_bos_token_id': 0}. You are seeing this warning because you've set generation parameters in the model config, as opposed to in the generation config.\n",
      "  warnings.warn(\n"
     ]
    },
    {
     "name": "stdout",
     "output_type": "stream",
     "text": [
      "{'train_runtime': 844.175, 'train_samples_per_second': 0.018, 'train_steps_per_second': 0.009, 'train_loss': 4.095225811004639, 'epoch': 1.0}\n",
      "Исходный текст: Научные исследования показали, что регулярные физические упражнения улучшают когнитивные функции.\n",
      "Пересказ: На физические упражнения регулярный ощерий терой пр\n",
      "\n",
      "Исходный текст: В последние годы искусственный интеллект достиг значительных успехов в обработке естественного языка.\n",
      "Пересказ:  обрапехой прегращен от о перпраментей горой ракон по\n",
      "\n"
     ]
    }
   ],
   "source": [
    "from datasets import DatasetDict, Dataset\n",
    "from transformers import (\n",
    "    BartForConditionalGeneration,\n",
    "    BartTokenizer,\n",
    "    Trainer,\n",
    "    TrainingArguments,\n",
    "    DataCollatorForSeq2Seq,\n",
    ")\n",
    "import random\n",
    "\n",
    "# 1. Загрузка и подготовка данных (2% от общего объема)\n",
    "def load_sample_data(file_path, fraction=0.02):\n",
    "    with open(file_path, 'r', encoding='utf-8') as f:\n",
    "        lines = f.readlines()\n",
    "    return random.sample(lines, max(1, int(len(lines) * fraction)))\n",
    "\n",
    "# Подготовка данных\n",
    "train_samples = load_sample_data('train_text_ru.txt')\n",
    "val_samples = load_sample_data('val_text_ru.txt')\n",
    "\n",
    "def prepare_samples(samples):\n",
    "    sources, targets = [], []\n",
    "    for line in samples:\n",
    "        parts = line.strip().split('</s>')\n",
    "        if len(parts) >= 2:\n",
    "            sources.append(parts[0].strip())\n",
    "            targets.append(parts[1].replace('<s>', '').replace('</s>?', '').strip())\n",
    "    return {'source': sources, 'target': targets}\n",
    "\n",
    "dataset = DatasetDict({\n",
    "    'train': Dataset.from_dict(prepare_samples(train_samples)),\n",
    "    'validation': Dataset.from_dict(prepare_samples(val_samples))\n",
    "})\n",
    "\n",
    "# 2. Загрузка модели и токенизатора\n",
    "model_name = 'facebook/bart-large-cnn'\n",
    "tokenizer = BartTokenizer.from_pretrained(model_name)\n",
    "model = BartForConditionalGeneration.from_pretrained(model_name)\n",
    "\n",
    "# 3. Токенизация с уменьшенными параметрами\n",
    "def tokenize_fn(examples):\n",
    "    model_inputs = tokenizer(examples['source'], max_length=128, truncation=True, padding='max_length')\n",
    "    with tokenizer.as_target_tokenizer():\n",
    "        labels = tokenizer(examples['target'], max_length=64, truncation=True, padding='max_length')\n",
    "    model_inputs['labels'] = labels['input_ids']\n",
    "    return model_inputs\n",
    "\n",
    "tokenized_data = dataset.map(tokenize_fn, batched=True, batch_size=8)\n",
    "\n",
    "# 4. Облегченное обучение\n",
    "training_args = TrainingArguments(\n",
    "    output_dir='./tmp',\n",
    "    per_device_train_batch_size=2,\n",
    "    per_device_eval_batch_size=2,\n",
    "    num_train_epochs=1,  # Всего 1 эпоха для демонстрации\n",
    "    evaluation_strategy='steps',\n",
    "    eval_steps=50,\n",
    "    logging_steps=50,\n",
    "    learning_rate=3e-5,\n",
    "    fp16=True,\n",
    ")\n",
    "\n",
    "trainer = Trainer(\n",
    "    model=model,\n",
    "    args=training_args,\n",
    "    train_dataset=tokenized_data['train'],\n",
    "    eval_dataset=tokenized_data['validation'],\n",
    "    data_collator=DataCollatorForSeq2Seq(tokenizer, model=model),\n",
    ")\n",
    "\n",
    "# 5. Краткое обучение (только 1 эпоха)\n",
    "trainer.train()\n",
    "\n",
    "# 6. Пример использования обученной модели\n",
    "def generate_summary(text, model, tokenizer):\n",
    "    inputs = tokenizer(text, return_tensors='pt', max_length=128, truncation=True)\n",
    "    summary_ids = model.generate(\n",
    "        inputs['input_ids'],\n",
    "        max_length=64,\n",
    "        num_beams=4,\n",
    "        early_stopping=True\n",
    "    )\n",
    "    return tokenizer.decode(summary_ids[0], skip_special_tokens=True)\n",
    "\n",
    "# Тестовые примеры\n",
    "test_texts = [\n",
    "    \"Научные исследования показали, что регулярные физические упражнения улучшают когнитивные функции.\",\n",
    "    \"В последние годы искусственный интеллект достиг значительных успехов в обработке естественного языка.\"\n",
    "]\n",
    "\n",
    "# Генерация пересказов\n",
    "for text in test_texts:\n",
    "    summary = generate_summary(text, model, tokenizer)\n",
    "    print(f\"Исходный текст: {text}\")\n",
    "    print(f\"Пересказ: {summary}\\n\")"
   ]
  },
  {
   "cell_type": "markdown",
   "metadata": {},
   "source": [
    "Возьмем две эпохи"
   ]
  },
  {
   "cell_type": "code",
   "execution_count": 1,
   "metadata": {},
   "outputs": [
    {
     "data": {
      "application/vnd.jupyter.widget-view+json": {
       "model_id": "316400c6809a4213aa0097eb61661efb",
       "version_major": 2,
       "version_minor": 0
      },
      "text/plain": [
       "Map:   0%|          | 0/13 [00:00<?, ? examples/s]"
      ]
     },
     "metadata": {},
     "output_type": "display_data"
    },
    {
     "name": "stderr",
     "output_type": "stream",
     "text": [
      "c:\\Users\\nicks\\anaconda3\\Lib\\site-packages\\transformers\\tokenization_utils_base.py:4109: UserWarning: `as_target_tokenizer` is deprecated and will be removed in v5 of Transformers. You can tokenize your labels by using the argument `text_target` of the regular `__call__` method (either in the same call as your input texts if you use the same keyword arguments, or in a separate call.\n",
      "  warnings.warn(\n"
     ]
    },
    {
     "data": {
      "application/vnd.jupyter.widget-view+json": {
       "model_id": "de8498805ea54427ac7e02266540234e",
       "version_major": 2,
       "version_minor": 0
      },
      "text/plain": [
       "Map:   0%|          | 0/2 [00:00<?, ? examples/s]"
      ]
     },
     "metadata": {},
     "output_type": "display_data"
    },
    {
     "name": "stderr",
     "output_type": "stream",
     "text": [
      "c:\\Users\\nicks\\anaconda3\\Lib\\site-packages\\transformers\\training_args.py:1545: FutureWarning: `evaluation_strategy` is deprecated and will be removed in version 4.46 of 🤗 Transformers. Use `eval_strategy` instead\n",
      "  warnings.warn(\n"
     ]
    },
    {
     "data": {
      "application/vnd.jupyter.widget-view+json": {
       "model_id": "892de51e57a440798e90b0a766e03de2",
       "version_major": 2,
       "version_minor": 0
      },
      "text/plain": [
       "  0%|          | 0/14 [00:00<?, ?it/s]"
      ]
     },
     "metadata": {},
     "output_type": "display_data"
    },
    {
     "name": "stderr",
     "output_type": "stream",
     "text": [
      "c:\\Users\\nicks\\anaconda3\\Lib\\site-packages\\transformers\\modeling_utils.py:2618: UserWarning: Moving the following attributes in the config to the generation config: {'max_length': 142, 'min_length': 56, 'early_stopping': True, 'num_beams': 4, 'length_penalty': 2.0, 'no_repeat_ngram_size': 3, 'forced_bos_token_id': 0}. You are seeing this warning because you've set generation parameters in the model config, as opposed to in the generation config.\n",
      "  warnings.warn(\n"
     ]
    },
    {
     "name": "stdout",
     "output_type": "stream",
     "text": [
      "{'train_runtime': 809.0544, 'train_samples_per_second': 0.032, 'train_steps_per_second': 0.017, 'train_loss': 3.604740687779018, 'epoch': 2.0}\n",
      "Исходный текст: Научные исследования показали, что регулярные физические упражнения улучшают когнитивные функции.\n",
      "Пересказ: На дерой полежить не поще на горония огропоренищичи про�\n",
      "\n",
      "Исходный текст: В последние годы искусственный интеллект достиг значительных успехов в обработке естественного языка.\n",
      "Пересказ: прещен огрения негороле наже дейстать по прочки должа\n",
      "\n"
     ]
    }
   ],
   "source": [
    "from datasets import DatasetDict, Dataset\n",
    "from transformers import (\n",
    "    BartForConditionalGeneration,\n",
    "    BartTokenizer,\n",
    "    Trainer,\n",
    "    TrainingArguments,\n",
    "    DataCollatorForSeq2Seq,\n",
    ")\n",
    "import random\n",
    "\n",
    "# 1. Загрузка и подготовка данных (2% от общего объема)\n",
    "def load_sample_data(file_path, fraction=0.02):\n",
    "    with open(file_path, 'r', encoding='utf-8') as f:\n",
    "        lines = f.readlines()\n",
    "    return random.sample(lines, max(1, int(len(lines) * fraction)))\n",
    "\n",
    "# Подготовка данных\n",
    "train_samples = load_sample_data('train_text_ru.txt')\n",
    "val_samples = load_sample_data('val_text_ru.txt')\n",
    "\n",
    "def prepare_samples(samples):\n",
    "    sources, targets = [], []\n",
    "    for line in samples:\n",
    "        parts = line.strip().split('</s>')\n",
    "        if len(parts) >= 2:\n",
    "            sources.append(parts[0].strip())\n",
    "            targets.append(parts[1].replace('<s>', '').replace('</s>?', '').strip())\n",
    "    return {'source': sources, 'target': targets}\n",
    "\n",
    "dataset = DatasetDict({\n",
    "    'train': Dataset.from_dict(prepare_samples(train_samples)),\n",
    "    'validation': Dataset.from_dict(prepare_samples(val_samples))\n",
    "})\n",
    "\n",
    "# 2. Загрузка модели и токенизатора\n",
    "model_name = 'facebook/bart-large-cnn'\n",
    "tokenizer = BartTokenizer.from_pretrained(model_name)\n",
    "model = BartForConditionalGeneration.from_pretrained(model_name)\n",
    "\n",
    "# 3. Токенизация с уменьшенными параметрами\n",
    "def tokenize_fn(examples):\n",
    "    model_inputs = tokenizer(examples['source'], max_length=128, truncation=True, padding='max_length')\n",
    "    with tokenizer.as_target_tokenizer():\n",
    "        labels = tokenizer(examples['target'], max_length=64, truncation=True, padding='max_length')\n",
    "    model_inputs['labels'] = labels['input_ids']\n",
    "    return model_inputs\n",
    "\n",
    "tokenized_data = dataset.map(tokenize_fn, batched=True, batch_size=8)\n",
    "\n",
    "# 4. Облегченное обучение (2 эпохи)\n",
    "training_args = TrainingArguments(\n",
    "    output_dir='./tmp',\n",
    "    per_device_train_batch_size=2,\n",
    "    per_device_eval_batch_size=2,\n",
    "    num_train_epochs=2,  # Теперь 2 эпохи\n",
    "    evaluation_strategy='steps',\n",
    "    eval_steps=50,\n",
    "    logging_steps=50,\n",
    "    learning_rate=3e-5,\n",
    "    fp16=True,\n",
    ")\n",
    "\n",
    "trainer = Trainer(\n",
    "    model=model,\n",
    "    args=training_args,\n",
    "    train_dataset=tokenized_data['train'],\n",
    "    eval_dataset=tokenized_data['validation'],\n",
    "    data_collator=DataCollatorForSeq2Seq(tokenizer, model=model),\n",
    ")\n",
    "\n",
    "# 5. Обучение (2 эпохи)\n",
    "trainer.train()\n",
    "\n",
    "# 6. Пример использования обученной модели\n",
    "def generate_summary(text, model, tokenizer):\n",
    "    inputs = tokenizer(text, return_tensors='pt', max_length=128, truncation=True)\n",
    "    summary_ids = model.generate(\n",
    "        inputs['input_ids'],\n",
    "        max_length=64,\n",
    "        num_beams=4,\n",
    "        early_stopping=True\n",
    "    )\n",
    "    return tokenizer.decode(summary_ids[0], skip_special_tokens=True)\n",
    "\n",
    "# Тестовые примеры\n",
    "test_texts = [\n",
    "    \"Научные исследования показали, что регулярные физические упражнения улучшают когнитивные функции.\",\n",
    "    \"В последние годы искусственный интеллект достиг значительных успехов в обработке естественного языка.\"\n",
    "]\n",
    "\n",
    "# Генерация пересказов\n",
    "for text in test_texts:\n",
    "    summary = generate_summary(text, model, tokenizer)\n",
    "    print(f\"Исходный текст: {text}\")\n",
    "    print(f\"Пересказ: {summary}\\n\")"
   ]
  },
  {
   "cell_type": "code",
   "execution_count": 3,
   "metadata": {},
   "outputs": [
    {
     "name": "stdout",
     "output_type": "stream",
     "text": [
      "Исходный текст:  В островном королевстве Мелнибонэ истово блюли древние обычаи, хотя вот уже пятьсот лет день за днем и час за часом теряла держава свое былое могущество и держалась теперь лишь торговлей с Молодыми Королевствами, да потому еще, что Призрачный Город Имррир служил местом встречи купцам со всего света. Много ли от тех обычаев пользы? Нельзя ли отринуть их и тем самым избежать уготованной судьбы?\n",
      "Соперник императора Элрика предпочитал не задаваться такими вопросами. Он заявлял во всеуслышанье, что, пренебрегая обычаями предков, Элрик навлечет гибель на Мелнибонэ.\n",
      "Вот начало той трагической истории, которая длилась не год и не два и за концом которой — гибель всего этого мира.\n",
      "\n",
      "Пересказ: Каго огроде неголаничение день за днем и час зе переже\n",
      "\n"
     ]
    }
   ],
   "source": [
    "test_texts = [\n",
    "    \"\"\" В островном королевстве Мелнибонэ истово блюли древние обычаи, хотя вот уже пятьсот лет день за днем и час за часом теряла держава свое былое могущество и держалась теперь лишь торговлей с Молодыми Королевствами, да потому еще, что Призрачный Город Имррир служил местом встречи купцам со всего света. Много ли от тех обычаев пользы? Нельзя ли отринуть их и тем самым избежать уготованной судьбы?\n",
    "Соперник императора Элрика предпочитал не задаваться такими вопросами. Он заявлял во всеуслышанье, что, пренебрегая обычаями предков, Элрик навлечет гибель на Мелнибонэ.\n",
    "Вот начало той трагической истории, которая длилась не год и не два и за концом которой — гибель всего этого мира.\n",
    "\"\"\"\n",
    "]\n",
    "\n",
    "# Генерация пересказов\n",
    "for text in test_texts:\n",
    "    summary = generate_summary(text, model, tokenizer)\n",
    "    print(f\"Исходный текст: {text}\")\n",
    "    print(f\"Пересказ: {summary}\\n\")"
   ]
  }
 ],
 "metadata": {
  "kernelspec": {
   "display_name": "base",
   "language": "python",
   "name": "python3"
  },
  "language_info": {
   "codemirror_mode": {
    "name": "ipython",
    "version": 3
   },
   "file_extension": ".py",
   "mimetype": "text/x-python",
   "name": "python",
   "nbconvert_exporter": "python",
   "pygments_lexer": "ipython3",
   "version": "3.12.3"
  }
 },
 "nbformat": 4,
 "nbformat_minor": 2
}
